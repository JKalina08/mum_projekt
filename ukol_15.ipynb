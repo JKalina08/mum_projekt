{
 "cells": [
  {
   "attachments": {},
   "cell_type": "markdown",
   "metadata": {},
   "source": []
  },
  {
   "attachments": {},
   "cell_type": "markdown",
   "metadata": {},
   "source": [
    "- - -   \n",
    "# Úkol č. 15\n",
    "### Demonstrace kvantování a vzorkování v obrazu\n",
    "1) Omezení barevného prostoru (podkvantování): převod na indexovaný soubor s paletou (např. GIF) s omezeným množstvím barev (např. 16). Použijte různé druhy optimalizace - žádnou, halftoning, dithering (náhodný, maticový, error diffusion), apod.\n",
    "2) Změna vzorkování: zvětšení a opětovné zmenšení (a naopak). Použijte různé interpolace při zmenšování a zvětšování, použijte celočíselné i neceločíselné poměry velikostí.\n",
    "3) Otočení tam a zase zpět: použijte jiné úhly než 90°, zkuste provést vícenásobné otočení (např. 20°-> 10°-> -30°)\n",
    "4) Podvzorkování: změňte rozlišení obrazu, zachovejte poměr stran.\n",
    "\n",
    "\n",
    "\n",
    "#### __Úvod__  \n",
    "\n",
    "\n",
    "#### __Motivace a hypotézy__  \n",
    "\n",
    "\n",
    "#### __Metodika__  \n"
   ]
  },
  {
   "attachments": {},
   "cell_type": "markdown",
   "metadata": {},
   "source": [
    "### Diskuse\n"
   ]
  }
 ],
 "metadata": {
  "kernelspec": {
   "display_name": "Python 3",
   "language": "python",
   "name": "python3"
  },
  "language_info": {
   "codemirror_mode": {
    "name": "ipython",
    "version": 3
   },
   "file_extension": ".py",
   "mimetype": "text/x-python",
   "name": "python",
   "nbconvert_exporter": "python",
   "pygments_lexer": "ipython3",
   "version": "3.10.6 (main, Nov 14 2022, 16:10:14) [GCC 11.3.0]"
  },
  "orig_nbformat": 4,
  "vscode": {
   "interpreter": {
    "hash": "916dbcbb3f70747c44a77c7bcd40155683ae19c65e1c03b4aa3499c5328201f1"
   }
  }
 },
 "nbformat": 4,
 "nbformat_minor": 2
}
